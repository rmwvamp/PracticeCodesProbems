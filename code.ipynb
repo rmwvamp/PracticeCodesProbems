{
 "cells": [
  {
   "cell_type": "code",
   "execution_count": 1,
   "metadata": {},
   "outputs": [
    {
     "ename": "NameError",
     "evalue": "name 'bigram_counts_for_trigram' is not defined",
     "output_type": "error",
     "traceback": [
      "\u001b[1;31m---------------------------------------------------------------------------\u001b[0m",
      "\u001b[1;31mNameError\u001b[0m                                 Traceback (most recent call last)",
      "Cell \u001b[1;32mIn[1], line 3\u001b[0m\n\u001b[0;32m      1\u001b[0m HANGMAN_URL \u001b[39m=\u001b[39m \u001b[39m\"\u001b[39m\u001b[39mhttps://www.trexsim.com/trexsim/hangman\u001b[39m\u001b[39m\"\u001b[39m\n\u001b[1;32m----> 3\u001b[0m \u001b[39mclass\u001b[39;00m \u001b[39mHangmanAPI\u001b[39;00m(\u001b[39mobject\u001b[39m):\n\u001b[0;32m      4\u001b[0m     \u001b[39mdef\u001b[39;00m \u001b[39m__init__\u001b[39m(\u001b[39mself\u001b[39m, access_token\u001b[39m=\u001b[39m\u001b[39mNone\u001b[39;00m, session\u001b[39m=\u001b[39m\u001b[39mNone\u001b[39;00m, timeout\u001b[39m=\u001b[39m\u001b[39mNone\u001b[39;00m):\n\u001b[0;32m      5\u001b[0m         \u001b[39mself\u001b[39m\u001b[39m.\u001b[39maccess_token \u001b[39m=\u001b[39m access_token\n",
      "Cell \u001b[1;32mIn[1], line 48\u001b[0m, in \u001b[0;36mHangmanAPI\u001b[1;34m()\u001b[0m\n\u001b[0;32m     46\u001b[0m \u001b[39mdef\u001b[39;00m \u001b[39mtrigram_prob\u001b[39m(wi_2, wi_1, char, trigram_counts, bigram_counts):\n\u001b[0;32m     47\u001b[0m     \u001b[39mreturn\u001b[39;00m trigram_counts[wi_2 \u001b[39m+\u001b[39m wi_1 \u001b[39m+\u001b[39m char] \u001b[39m/\u001b[39m \u001b[39mfloat\u001b[39m(bigram_counts[wi_2][wi_1])\n\u001b[1;32m---> 48\u001b[0m \u001b[39mdef\u001b[39;00m \u001b[39mmy_amazing_ai_guesser\u001b[39m(mask, guessed, bigram_counts\u001b[39m=\u001b[39mbigram_counts_for_trigram, trigram_counts\u001b[39m=\u001b[39mtrigram_counts, \n\u001b[0;32m     49\u001b[0m                       unigram_counts\u001b[39m=\u001b[39munigram_counts):\n\u001b[0;32m     50\u001b[0m \n\u001b[0;32m     51\u001b[0m     \u001b[39m# available is a list that does not contain the character in guessed\u001b[39;00m\n\u001b[0;32m     52\u001b[0m     available \u001b[39m=\u001b[39m \u001b[39mlist\u001b[39m(\u001b[39mset\u001b[39m(string\u001b[39m.\u001b[39mascii_lowercase) \u001b[39m-\u001b[39m guessed)\n\u001b[0;32m     54\u001b[0m     \u001b[39m# The probabilities of available character\u001b[39;00m\n",
      "\u001b[1;31mNameError\u001b[0m: name 'bigram_counts_for_trigram' is not defined"
     ]
    }
   ],
   "source": []
  },
  {
   "cell_type": "code",
   "execution_count": null,
   "metadata": {},
   "outputs": [],
   "source": []
  }
 ],
 "metadata": {
  "kernelspec": {
   "display_name": "Python 3",
   "language": "python",
   "name": "python3"
  },
  "language_info": {
   "codemirror_mode": {
    "name": "ipython",
    "version": 3
   },
   "file_extension": ".py",
   "mimetype": "text/x-python",
   "name": "python",
   "nbconvert_exporter": "python",
   "pygments_lexer": "ipython3",
   "version": "3.10.7 (tags/v3.10.7:6cc6b13, Sep  5 2022, 14:08:36) [MSC v.1933 64 bit (AMD64)]"
  },
  "orig_nbformat": 4,
  "vscode": {
   "interpreter": {
    "hash": "afb734500600fd355917ca529030176ea0ca205570884b88f2f6f7d791fd3fbe"
   }
  }
 },
 "nbformat": 4,
 "nbformat_minor": 2
}
